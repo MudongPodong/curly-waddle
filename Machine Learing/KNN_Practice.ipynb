{
  "cells": [
    {
      "cell_type": "code",
      "execution_count": null,
      "id": "d38afe73-2355-41a5-8f53-b4bd58269e35",
      "metadata": {
        "id": "d38afe73-2355-41a5-8f53-b4bd58269e35"
      },
      "outputs": [],
      "source": [
        "import pandas as pd\n",
        "import numpy as np\n",
        "from sklearn import datasets\n",
        "import matplotlib.pyplot as plt\n",
        "plt.rcParams['figure.figsize'] = (7, 10)"
      ]
    },
    {
      "cell_type": "code",
      "execution_count": null,
      "id": "ed8e7653-545a-4a1f-bd19-219a5ea99597",
      "metadata": {
        "id": "ed8e7653-545a-4a1f-bd19-219a5ea99597"
      },
      "outputs": [],
      "source": [
        "iris = datasets.load_iris()"
      ]
    },
    {
      "cell_type": "code",
      "execution_count": null,
      "id": "85e554bc-6c10-429e-82bb-dbcdbaab3f7a",
      "metadata": {
        "colab": {
          "base_uri": "https://localhost:8080/"
        },
        "id": "85e554bc-6c10-429e-82bb-dbcdbaab3f7a",
        "outputId": "08688dcc-1456-419b-8519-095009daf6b1"
      },
      "outputs": [
        {
          "output_type": "stream",
          "name": "stdout",
          "text": [
            "<class 'numpy.ndarray'> <class 'numpy.ndarray'> (150, 2) (150,)\n",
            "{0, 1, 2}\n"
          ]
        }
      ],
      "source": [
        "x = iris.data[:, [2, 3]]\n",
        "y = iris.target\n",
        "\n",
        "print(type(x), type(y), x.shape, y.shape)\n",
        "print(set(y))"
      ]
    },
    {
      "cell_type": "code",
      "execution_count": null,
      "id": "bc29368a-14fe-4a16-9efc-b3f9a65a651b",
      "metadata": {
        "id": "bc29368a-14fe-4a16-9efc-b3f9a65a651b"
      },
      "outputs": [],
      "source": [
        "from sklearn.model_selection._split import train_test_split"
      ]
    },
    {
      "cell_type": "code",
      "execution_count": null,
      "id": "ec9b3af2-f1b1-40cd-a1a5-8bbc12effc3f",
      "metadata": {
        "colab": {
          "base_uri": "https://localhost:8080/"
        },
        "id": "ec9b3af2-f1b1-40cd-a1a5-8bbc12effc3f",
        "outputId": "7f8951cd-3d71-493b-9772-c52a92050b00"
      },
      "outputs": [
        {
          "output_type": "stream",
          "name": "stdout",
          "text": [
            "(105, 2) (45, 2) (105,) (45,)\n"
          ]
        }
      ],
      "source": [
        "x_train, x_test, y_train, y_test = train_test_split(x, y, test_size=0.3, random_state = 0)\n",
        "print(x_train.shape, x_test.shape, y_train.shape, y_test.shape)"
      ]
    },
    {
      "cell_type": "code",
      "execution_count": null,
      "id": "61e83e7a-7ac4-4573-aa22-dbbd7b1a2299",
      "metadata": {
        "id": "61e83e7a-7ac4-4573-aa22-dbbd7b1a2299"
      },
      "outputs": [],
      "source": [
        "from sklearn.preprocessing import StandardScaler"
      ]
    },
    {
      "cell_type": "code",
      "execution_count": null,
      "id": "da086d4f-83ca-45f5-a301-e1a06ebca45a",
      "metadata": {
        "id": "da086d4f-83ca-45f5-a301-e1a06ebca45a"
      },
      "outputs": [],
      "source": [
        "sc = StandardScaler()\n",
        "sc.fit(x_test)\n",
        "sc.fit(x_train)\n",
        "x_train = sc.transform(x_train)\n",
        "x_test = sc.transform(x_test)"
      ]
    },
    {
      "cell_type": "code",
      "execution_count": null,
      "id": "c7cbca8d-56c5-4185-9d2f-59a2061443b0",
      "metadata": {
        "colab": {
          "base_uri": "https://localhost:8080/"
        },
        "id": "c7cbca8d-56c5-4185-9d2f-59a2061443b0",
        "outputId": "0834a809-152e-4c60-a144-17ca5f609711"
      },
      "outputs": [
        {
          "output_type": "execute_result",
          "data": {
            "text/plain": [
              "KNeighborsClassifier(n_neighbors=100)"
            ]
          },
          "metadata": {},
          "execution_count": 17
        }
      ],
      "source": [
        "from sklearn.neighbors import KNeighborsClassifier\n",
        "model = KNeighborsClassifier(n_neighbors=100)\n",
        "model.fit(x_train, y_train)"
      ]
    },
    {
      "cell_type": "code",
      "execution_count": null,
      "id": "bb47fc89-aa6d-41c3-ab34-86bace778366",
      "metadata": {
        "colab": {
          "base_uri": "https://localhost:8080/",
          "height": 1000
        },
        "id": "bb47fc89-aa6d-41c3-ab34-86bace778366",
        "outputId": "87f0030a-bdc5-47a9-9c8d-6852c80f0867"
      },
      "outputs": [
        {
          "output_type": "stream",
          "name": "stdout",
          "text": [
            "분류 정확도 출력1 : 0.600\n",
            "새로운 값으로 예측 :  [0 0 2]\n"
          ]
        },
        {
          "output_type": "stream",
          "name": "stderr",
          "text": [
            "WARNING:matplotlib.axes._axes:*c* argument looks like a single numeric RGB or RGBA sequence, which should be avoided as value-mapping will have precedence in case its length matches with *x* & *y*.  Please use the *color* keyword-argument or provide a 2-D array with a single row if you intend to specify the same RGB or RGBA value for all points.\n",
            "WARNING:matplotlib.axes._axes:*c* argument looks like a single numeric RGB or RGBA sequence, which should be avoided as value-mapping will have precedence in case its length matches with *x* & *y*.  Please use the *color* keyword-argument or provide a 2-D array with a single row if you intend to specify the same RGB or RGBA value for all points.\n",
            "WARNING:matplotlib.axes._axes:*c* argument looks like a single numeric RGB or RGBA sequence, which should be avoided as value-mapping will have precedence in case its length matches with *x* & *y*.  Please use the *color* keyword-argument or provide a 2-D array with a single row if you intend to specify the same RGB or RGBA value for all points.\n",
            "/usr/local/lib/python3.7/dist-packages/matplotlib/backends/backend_agg.py:214: RuntimeWarning: Glyph 51228 missing from current font.\n",
            "  font.set_text(s, 0.0, flags=flags)\n",
            "/usr/local/lib/python3.7/dist-packages/matplotlib/backends/backend_agg.py:214: RuntimeWarning: Glyph 44277 missing from current font.\n",
            "  font.set_text(s, 0.0, flags=flags)\n",
            "/usr/local/lib/python3.7/dist-packages/matplotlib/backends/backend_agg.py:214: RuntimeWarning: Glyph 44867 missing from current font.\n",
            "  font.set_text(s, 0.0, flags=flags)\n",
            "/usr/local/lib/python3.7/dist-packages/matplotlib/backends/backend_agg.py:214: RuntimeWarning: Glyph 51086 missing from current font.\n",
            "  font.set_text(s, 0.0, flags=flags)\n",
            "/usr/local/lib/python3.7/dist-packages/matplotlib/backends/backend_agg.py:214: RuntimeWarning: Glyph 44600 missing from current font.\n",
            "  font.set_text(s, 0.0, flags=flags)\n",
            "/usr/local/lib/python3.7/dist-packages/matplotlib/backends/backend_agg.py:214: RuntimeWarning: Glyph 51060 missing from current font.\n",
            "  font.set_text(s, 0.0, flags=flags)\n",
            "/usr/local/lib/python3.7/dist-packages/matplotlib/backends/backend_agg.py:214: RuntimeWarning: Glyph 45320 missing from current font.\n",
            "  font.set_text(s, 0.0, flags=flags)\n",
            "/usr/local/lib/python3.7/dist-packages/matplotlib/backends/backend_agg.py:214: RuntimeWarning: Glyph 48708 missing from current font.\n",
            "  font.set_text(s, 0.0, flags=flags)\n",
            "/usr/local/lib/python3.7/dist-packages/matplotlib/backends/backend_agg.py:183: RuntimeWarning: Glyph 44867 missing from current font.\n",
            "  font.set_text(s, 0, flags=flags)\n",
            "/usr/local/lib/python3.7/dist-packages/matplotlib/backends/backend_agg.py:183: RuntimeWarning: Glyph 51086 missing from current font.\n",
            "  font.set_text(s, 0, flags=flags)\n",
            "/usr/local/lib/python3.7/dist-packages/matplotlib/backends/backend_agg.py:183: RuntimeWarning: Glyph 44600 missing from current font.\n",
            "  font.set_text(s, 0, flags=flags)\n",
            "/usr/local/lib/python3.7/dist-packages/matplotlib/backends/backend_agg.py:183: RuntimeWarning: Glyph 51060 missing from current font.\n",
            "  font.set_text(s, 0, flags=flags)\n",
            "/usr/local/lib/python3.7/dist-packages/matplotlib/backends/backend_agg.py:183: RuntimeWarning: Glyph 45320 missing from current font.\n",
            "  font.set_text(s, 0, flags=flags)\n",
            "/usr/local/lib/python3.7/dist-packages/matplotlib/backends/backend_agg.py:183: RuntimeWarning: Glyph 48708 missing from current font.\n",
            "  font.set_text(s, 0, flags=flags)\n",
            "/usr/local/lib/python3.7/dist-packages/matplotlib/backends/backend_agg.py:183: RuntimeWarning: Glyph 51228 missing from current font.\n",
            "  font.set_text(s, 0, flags=flags)\n",
            "/usr/local/lib/python3.7/dist-packages/matplotlib/backends/backend_agg.py:183: RuntimeWarning: Glyph 44277 missing from current font.\n",
            "  font.set_text(s, 0, flags=flags)\n"
          ]
        },
        {
          "output_type": "display_data",
          "data": {
            "text/plain": [
              "<Figure size 504x720 with 1 Axes>"
            ],
            "image/png": "[encoded data removed]"
          },
          "metadata": {
            "needs_background": "light"
          }
        }
      ],
      "source": [
        "from sklearn.metrics import accuracy_score\n",
        "\n",
        "y_pred = model.predict(x_test)  # 검정자료는 test\n",
        "\n",
        "# 분류 정확도\n",
        "print('분류 정확도 출력1 : %.3f'%accuracy_score(y_test, y_pred))  \n",
        "\n",
        "# 새로운 값으로 예측\n",
        "new_data = np.array([[5.1, 2.4], [1.1, 1.4], [8.1, 8.4]])\n",
        "\n",
        "# 표준화\n",
        "sc.fit(new_data)\n",
        "new_data = sc.transform(new_data)\n",
        "new_pred = model.predict(new_data)\n",
        "print('새로운 값으로 예측 : ', new_pred)  # 새로운 값으로 예측 :  [1 0 2]\n",
        "\n",
        "#* 붓꽃 자료에 대한 로지스틱 회귀 결과를 차트로 그리기 *\n",
        "import numpy as np\n",
        "import matplotlib.pyplot as plt\n",
        "from matplotlib.colors import ListedColormap\n",
        "from matplotlib import font_manager, rc\n",
        "plt.rc('font', family='malgun gothic')      \n",
        "plt.rcParams['axes.unicode_minus']= False\n",
        "\n",
        "def plot_decision_region(X, y, classifier, test_idx=None, resolution=0.02, title=''):\n",
        "    markers = ('s', 'x', 'o', '^', 'v')  # 점 표시 모양 5개 정의\n",
        "    colors = ('r', 'b', 'lightgreen', 'gray', 'cyan')\n",
        "    cmap = ListedColormap(colors[:len(np.unique(y))])\n",
        "    #print('cmap : ', cmap.colors[0], cmap.colors[1], cmap.colors[2])\n",
        "\n",
        "    # decision surface 그리기\n",
        "    x1_min, x1_max = X[:, 0].min() - 1, X[:, 0].max() + 1\n",
        "    x2_min, x2_max = X[:, 0].min() - 1, X[:, 0].max() + 1\n",
        "    xx, yy = np.meshgrid(np.arange(x1_min, x1_max, resolution), np.arange(x2_min, x2_max, resolution))\n",
        "\n",
        "    # xx, yy를 ravel()를 이용해 1차원 배열로 만든 후 전치행렬로 변환하여 퍼셉트론 분류기의 \n",
        "    # predict()의 인자로 입력하여 계산된 예측값을 Z로 둔다.\n",
        "    Z = classifier.predict(np.array([xx.ravel(), yy.ravel()]).T)\n",
        "    Z = Z.reshape(xx.shape)   # Z를 reshape()을 이용해 원래 배열 모양으로 복원한다.\n",
        "    \n",
        "    # X를 xx, yy가 축인 그래프 상에 cmap을 이용해 등고선을 그림\n",
        "    plt.contourf(xx, yy, Z, alpha=0.5, cmap=cmap)\n",
        "    plt.xlim(xx.min(), xx.max())\n",
        "    plt.ylim(yy.min(), yy.max())\n",
        "    \n",
        "    X_test = X[test_idx, :]\n",
        "    for idx, cl in enumerate(np.unique(y)):\n",
        "        plt.scatter(x=X[y==cl, 0], y=X[y==cl, 1], c=cmap(idx), marker=markers[idx], label=cl)\n",
        "       \n",
        "    if test_idx:\n",
        "        X_test = X[test_idx, :]\n",
        "        plt.scatter(X_test[:, 0], X_test[:, 1], c=[], linewidth=1, marker='o', s=80, label='testset')\n",
        "    \n",
        "    plt.xlabel('꽃잎 길이')\n",
        "    plt.ylabel('꽃잎 너비')\n",
        "    plt.legend(loc=2)\n",
        "    plt.title(title)\n",
        "    plt.show()\n",
        "\n",
        "x_combined_std = np.vstack((x_train, x_test))\n",
        "y_combined = np.hstack((y_train, y_test))\n",
        "plot_decision_region(X=x_combined_std, y=y_combined, classifier=model, test_idx=range(105, 150), title='scikit-learn제공') "
      ]
    },
    {
      "cell_type": "code",
      "execution_count": null,
      "id": "2e3631c5-f1d7-4be3-9c53-2f1927134df7",
      "metadata": {
        "id": "2e3631c5-f1d7-4be3-9c53-2f1927134df7"
      },
      "outputs": [],
      "source": []
    }
  ],
  "metadata": {
    "kernelspec": {
      "display_name": "Python 3 (ipykernel)",
      "language": "python",
      "name": "python3"
    },
    "language_info": {
      "codemirror_mode": {
        "name": "ipython",
        "version": 3
      },
      "file_extension": ".py",
      "mimetype": "text/x-python",
      "name": "python",
      "nbconvert_exporter": "python",
      "pygments_lexer": "ipython3",
      "version": "3.7.11"
    },
    "colab": {
      "provenance": []
    }
  },
  "nbformat": 4,
  "nbformat_minor": 5
}