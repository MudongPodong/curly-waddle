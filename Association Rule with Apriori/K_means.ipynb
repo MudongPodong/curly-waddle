{
  "cells": [
    {
      "cell_type": "markdown",
      "metadata": {
        "id": "-uQLRB4SiOBA"
      },
      "source": [
        "# __K-means Clustering__\n",
        "---"
      ]
    },
    {
      "cell_type": "markdown",
      "metadata": {
        "id": "A6ekjsUHiS3b"
      },
      "source": [
        "## __1. K-means clustering 진행하기__"
      ]
    },
    {
      "cell_type": "markdown",
      "metadata": {
        "id": "JXsQ_sM2imUR"
      },
      "source": [
        "### __Module import__"
      ]
    },
    {
      "cell_type": "code",
      "execution_count": null,
      "metadata": {
        "id": "fBV7Bpi19xBV"
      },
      "outputs": [],
      "source": [
        "from sklearn.datasets import make_blobs\n",
        "import pandas as pd\n",
        "import numpy as np\n",
        "import math\n",
        "import scipy as sp\n",
        "import seaborn as sns\n",
        "import matplotlib.pyplot as plt"
      ]
    },
    {
      "cell_type": "markdown",
      "metadata": {
        "id": "pboQZhwKiM_Q"
      },
      "source": [
        "### __데이터 준비__"
      ]
    },
    {
      "cell_type": "code",
      "execution_count": null,
      "metadata": {
        "colab": {
          "base_uri": "https://localhost:8080/",
          "height": 206
        },
        "id": "1YKS8jq8928k",
        "outputId": "8f1b5ccc-8630-4dbf-b576-915ed381e358"
      },
      "outputs": [
        {
          "data": {
            "text/html": [
              "<div>\n",
              "<style scoped>\n",
              "    .dataframe tbody tr th:only-of-type {\n",
              "        vertical-align: middle;\n",
              "    }\n",
              "\n",
              "    .dataframe tbody tr th {\n",
              "        vertical-align: top;\n",
              "    }\n",
              "\n",
              "    .dataframe thead th {\n",
              "        text-align: right;\n",
              "    }\n",
              "</style>\n",
              "<table border=\"1\" class=\"dataframe\">\n",
              "  <thead>\n",
              "    <tr style=\"text-align: right;\">\n",
              "      <th></th>\n",
              "      <th>x</th>\n",
              "      <th>y</th>\n",
              "    </tr>\n",
              "  </thead>\n",
              "  <tbody>\n",
              "    <tr>\n",
              "      <th>0</th>\n",
              "      <td>0.276181</td>\n",
              "      <td>-2.217047</td>\n",
              "    </tr>\n",
              "    <tr>\n",
              "      <th>1</th>\n",
              "      <td>7.927368</td>\n",
              "      <td>-9.761527</td>\n",
              "    </tr>\n",
              "    <tr>\n",
              "      <th>2</th>\n",
              "      <td>8.491428</td>\n",
              "      <td>-2.549749</td>\n",
              "    </tr>\n",
              "    <tr>\n",
              "      <th>3</th>\n",
              "      <td>-11.537102</td>\n",
              "      <td>2.434883</td>\n",
              "    </tr>\n",
              "    <tr>\n",
              "      <th>4</th>\n",
              "      <td>4.292259</td>\n",
              "      <td>-8.992204</td>\n",
              "    </tr>\n",
              "  </tbody>\n",
              "</table>\n",
              "</div>"
            ],
            "text/plain": [
              "           x         y\n",
              "0   0.276181 -2.217047\n",
              "1   7.927368 -9.761527\n",
              "2   8.491428 -2.549749\n",
              "3 -11.537102  2.434883\n",
              "4   4.292259 -8.992204"
            ]
          },
          "execution_count": 3,
          "metadata": {},
          "output_type": "execute_result"
        }
      ],
      "source": [
        "x, y = make_blobs(n_samples=100, centers=4, n_features=2, random_state=6)\n",
        "points = pd.DataFrame(x, y).reset_index(drop=True)\n",
        "points.columns = [\"x\", \"y\"]\n",
        "points.head()"
      ]
    },
    {
      "cell_type": "markdown",
      "metadata": {
        "id": "WP1EMFnYi0Jx"
      },
      "source": [
        "### __데이터 시각화__"
      ]
    },
    {
      "cell_type": "code",
      "execution_count": null,
      "metadata": {
        "colab": {
          "base_uri": "https://localhost:8080/",
          "height": 279
        },
        "id": "Z6nnVCndgd4T",
        "outputId": "d2434800-e44d-4b19-93e7-5ab89c4c9c09"
      },
      "outputs": [
        {
          "data": {
            "image/png": "[encoded data removed]",
            "text/plain": [
              "<Figure size 432x288 with 1 Axes>"
            ]
          },
          "metadata": {
            "needs_background": "light"
          },
          "output_type": "display_data"
        }
      ],
      "source": [
        "sns.scatterplot(x=\"x\", y=\"y\", data=points, palette=\"Set2\");"
      ]
    },
    {
      "cell_type": "markdown",
      "metadata": {
        "id": "PSyHCCbvi6R1"
      },
      "source": [
        "### __Initalize : Centorid__"
      ]
    },
    {
      "cell_type": "code",
      "execution_count": null,
      "metadata": {
        "colab": {
          "base_uri": "https://localhost:8080/",
          "height": 175
        },
        "id": "42AqgN_1ge-M",
        "outputId": "1992b223-10d2-428e-d78a-a17587904e0a"
      },
      "outputs": [
        {
          "data": {
            "text/html": [
              "<div>\n",
              "<style scoped>\n",
              "    .dataframe tbody tr th:only-of-type {\n",
              "        vertical-align: middle;\n",
              "    }\n",
              "\n",
              "    .dataframe tbody tr th {\n",
              "        vertical-align: top;\n",
              "    }\n",
              "\n",
              "    .dataframe thead th {\n",
              "        text-align: right;\n",
              "    }\n",
              "</style>\n",
              "<table border=\"1\" class=\"dataframe\">\n",
              "  <thead>\n",
              "    <tr style=\"text-align: right;\">\n",
              "      <th></th>\n",
              "      <th>x</th>\n",
              "      <th>y</th>\n",
              "    </tr>\n",
              "  </thead>\n",
              "  <tbody>\n",
              "    <tr>\n",
              "      <th>26</th>\n",
              "      <td>5.456445</td>\n",
              "      <td>-8.999001</td>\n",
              "    </tr>\n",
              "    <tr>\n",
              "      <th>94</th>\n",
              "      <td>-7.559987</td>\n",
              "      <td>1.952901</td>\n",
              "    </tr>\n",
              "    <tr>\n",
              "      <th>99</th>\n",
              "      <td>1.432822</td>\n",
              "      <td>-3.001946</td>\n",
              "    </tr>\n",
              "    <tr>\n",
              "      <th>70</th>\n",
              "      <td>-9.048218</td>\n",
              "      <td>2.792694</td>\n",
              "    </tr>\n",
              "  </tbody>\n",
              "</table>\n",
              "</div>"
            ],
            "text/plain": [
              "           x         y\n",
              "26  5.456445 -8.999001\n",
              "94 -7.559987  1.952901\n",
              "99  1.432822 -3.001946\n",
              "70 -9.048218  2.792694"
            ]
          },
          "execution_count": 11,
          "metadata": {},
          "output_type": "execute_result"
        }
      ],
      "source": [
        "centroids = points.sample(4)\n",
        "centroids"
      ]
    },
    {
      "cell_type": "markdown",
      "metadata": {
        "id": "RybS1JnHjIuP"
      },
      "source": [
        "1. 임의의 Centroid를 구하고, 샘플들과 임의의 Centroid들의 유클리드 거리를 구함.\n",
        "2. K개의 각 거리별로 K개의 클러스터 군집 생성"
      ]
    },
    {
      "cell_type": "code",
      "execution_count": null,
      "metadata": {
        "colab": {
          "base_uri": "https://localhost:8080/",
          "height": 206
        },
        "id": "pRBM2QfXggYY",
        "outputId": "c41072fd-853d-4dd4-cb42-7d61a50224fd"
      },
      "outputs": [
        {
          "data": {
            "text/html": [
              "<div>\n",
              "<style scoped>\n",
              "    .dataframe tbody tr th:only-of-type {\n",
              "        vertical-align: middle;\n",
              "    }\n",
              "\n",
              "    .dataframe tbody tr th {\n",
              "        vertical-align: top;\n",
              "    }\n",
              "\n",
              "    .dataframe thead th {\n",
              "        text-align: right;\n",
              "    }\n",
              "</style>\n",
              "<table border=\"1\" class=\"dataframe\">\n",
              "  <thead>\n",
              "    <tr style=\"text-align: right;\">\n",
              "      <th></th>\n",
              "      <th>x</th>\n",
              "      <th>y</th>\n",
              "      <th>cluster</th>\n",
              "    </tr>\n",
              "  </thead>\n",
              "  <tbody>\n",
              "    <tr>\n",
              "      <th>0</th>\n",
              "      <td>0.276181</td>\n",
              "      <td>-2.217047</td>\n",
              "      <td>2</td>\n",
              "    </tr>\n",
              "    <tr>\n",
              "      <th>1</th>\n",
              "      <td>7.927368</td>\n",
              "      <td>-9.761527</td>\n",
              "      <td>0</td>\n",
              "    </tr>\n",
              "    <tr>\n",
              "      <th>2</th>\n",
              "      <td>8.491428</td>\n",
              "      <td>-2.549749</td>\n",
              "      <td>2</td>\n",
              "    </tr>\n",
              "    <tr>\n",
              "      <th>3</th>\n",
              "      <td>-11.537102</td>\n",
              "      <td>2.434883</td>\n",
              "      <td>3</td>\n",
              "    </tr>\n",
              "    <tr>\n",
              "      <th>4</th>\n",
              "      <td>4.292259</td>\n",
              "      <td>-8.992204</td>\n",
              "      <td>0</td>\n",
              "    </tr>\n",
              "  </tbody>\n",
              "</table>\n",
              "</div>"
            ],
            "text/plain": [
              "           x         y  cluster\n",
              "0   0.276181 -2.217047        2\n",
              "1   7.927368 -9.761527        0\n",
              "2   8.491428 -2.549749        2\n",
              "3 -11.537102  2.434883        3\n",
              "4   4.292259 -8.992204        0"
            ]
          },
          "execution_count": 12,
          "metadata": {},
          "output_type": "execute_result"
        }
      ],
      "source": [
        "distance = sp.spatial.distance.cdist(points, centroids, \"euclidean\")\n",
        "cluster_num = np.argmin(distance, axis=1)\n",
        "\n",
        "result = points.copy()\n",
        "result[\"cluster\"] = np.array(cluster_num)\n",
        "result.head()"
      ]
    },
    {
      "cell_type": "markdown",
      "metadata": {
        "id": "vrvHhW-Jjfgu"
      },
      "source": [
        "이를 시각화 해보면 다음과 같음."
      ]
    },
    {
      "cell_type": "code",
      "execution_count": null,
      "metadata": {
        "colab": {
          "base_uri": "https://localhost:8080/",
          "height": 279
        },
        "id": "bnQkdmAdgiUz",
        "outputId": "65da65d9-bebb-476c-aab1-63209cf6d2d2"
      },
      "outputs": [
        {
          "data": {
            "image/png": "[encoded data removed]",
            "text/plain": [
              "<Figure size 432x288 with 1 Axes>"
            ]
          },
          "metadata": {
            "needs_background": "light"
          },
          "output_type": "display_data"
        }
      ],
      "source": [
        "sns.scatterplot(x=\"x\", y=\"y\", hue=\"cluster\", data=result, palette=\"Set1\");"
      ]
    },
    {
      "cell_type": "markdown",
      "metadata": {
        "id": "SmikJF4Kjw0A"
      },
      "source": [
        "### __클러스터 별로 거리의 중심점(Centroid)을 평균값으로 계산__"
      ]
    },
    {
      "cell_type": "code",
      "execution_count": null,
      "metadata": {
        "colab": {
          "base_uri": "https://localhost:8080/",
          "height": 206
        },
        "id": "lKBePPBogpLT",
        "outputId": "ce36a458-59bd-40ed-cda1-43d6b3a9385f"
      },
      "outputs": [
        {
          "data": {
            "text/html": [
              "<div>\n",
              "<style scoped>\n",
              "    .dataframe tbody tr th:only-of-type {\n",
              "        vertical-align: middle;\n",
              "    }\n",
              "\n",
              "    .dataframe tbody tr th {\n",
              "        vertical-align: top;\n",
              "    }\n",
              "\n",
              "    .dataframe thead th {\n",
              "        text-align: right;\n",
              "    }\n",
              "</style>\n",
              "<table border=\"1\" class=\"dataframe\">\n",
              "  <thead>\n",
              "    <tr style=\"text-align: right;\">\n",
              "      <th></th>\n",
              "      <th>x</th>\n",
              "      <th>y</th>\n",
              "    </tr>\n",
              "    <tr>\n",
              "      <th>cluster</th>\n",
              "      <th></th>\n",
              "      <th></th>\n",
              "    </tr>\n",
              "  </thead>\n",
              "  <tbody>\n",
              "    <tr>\n",
              "      <th>0</th>\n",
              "      <td>7.201901</td>\n",
              "      <td>-7.356288</td>\n",
              "    </tr>\n",
              "    <tr>\n",
              "      <th>1</th>\n",
              "      <td>-7.552568</td>\n",
              "      <td>1.561452</td>\n",
              "    </tr>\n",
              "    <tr>\n",
              "      <th>2</th>\n",
              "      <td>2.838080</td>\n",
              "      <td>-1.842430</td>\n",
              "    </tr>\n",
              "    <tr>\n",
              "      <th>3</th>\n",
              "      <td>-9.270299</td>\n",
              "      <td>2.223625</td>\n",
              "    </tr>\n",
              "  </tbody>\n",
              "</table>\n",
              "</div>"
            ],
            "text/plain": [
              "                x         y\n",
              "cluster                    \n",
              "0        7.201901 -7.356288\n",
              "1       -7.552568  1.561452\n",
              "2        2.838080 -1.842430\n",
              "3       -9.270299  2.223625"
            ]
          },
          "execution_count": 14,
          "metadata": {},
          "output_type": "execute_result"
        }
      ],
      "source": [
        "centroids_2 = result.groupby(\"cluster\").mean()\n",
        "centroids_2"
      ]
    },
    {
      "cell_type": "code",
      "execution_count": null,
      "metadata": {
        "colab": {
          "base_uri": "https://localhost:8080/",
          "height": 206
        },
        "id": "Gjwboqgygr1S",
        "outputId": "db8790c5-4cd7-4c63-b151-b08507357f92"
      },
      "outputs": [
        {
          "data": {
            "text/html": [
              "<div>\n",
              "<style scoped>\n",
              "    .dataframe tbody tr th:only-of-type {\n",
              "        vertical-align: middle;\n",
              "    }\n",
              "\n",
              "    .dataframe tbody tr th {\n",
              "        vertical-align: top;\n",
              "    }\n",
              "\n",
              "    .dataframe thead th {\n",
              "        text-align: right;\n",
              "    }\n",
              "</style>\n",
              "<table border=\"1\" class=\"dataframe\">\n",
              "  <thead>\n",
              "    <tr style=\"text-align: right;\">\n",
              "      <th></th>\n",
              "      <th>x</th>\n",
              "      <th>y</th>\n",
              "      <th>cluster</th>\n",
              "    </tr>\n",
              "  </thead>\n",
              "  <tbody>\n",
              "    <tr>\n",
              "      <th>0</th>\n",
              "      <td>0.276181</td>\n",
              "      <td>-2.217047</td>\n",
              "      <td>2</td>\n",
              "    </tr>\n",
              "    <tr>\n",
              "      <th>1</th>\n",
              "      <td>7.927368</td>\n",
              "      <td>-9.761527</td>\n",
              "      <td>0</td>\n",
              "    </tr>\n",
              "    <tr>\n",
              "      <th>2</th>\n",
              "      <td>8.491428</td>\n",
              "      <td>-2.549749</td>\n",
              "      <td>0</td>\n",
              "    </tr>\n",
              "    <tr>\n",
              "      <th>3</th>\n",
              "      <td>-11.537102</td>\n",
              "      <td>2.434883</td>\n",
              "      <td>3</td>\n",
              "    </tr>\n",
              "    <tr>\n",
              "      <th>4</th>\n",
              "      <td>4.292259</td>\n",
              "      <td>-8.992204</td>\n",
              "      <td>0</td>\n",
              "    </tr>\n",
              "  </tbody>\n",
              "</table>\n",
              "</div>"
            ],
            "text/plain": [
              "           x         y  cluster\n",
              "0   0.276181 -2.217047        2\n",
              "1   7.927368 -9.761527        0\n",
              "2   8.491428 -2.549749        0\n",
              "3 -11.537102  2.434883        3\n",
              "4   4.292259 -8.992204        0"
            ]
          },
          "execution_count": 15,
          "metadata": {},
          "output_type": "execute_result"
        }
      ],
      "source": [
        "# Centorid_2를 사용(평균 값이 적용된 Centroid)\n",
        "distance = sp.spatial.distance.cdist(points, centroids_2, \"euclidean\")\n",
        "cluster_num = np.argmin(distance, axis=1)\n",
        "\n",
        "result = points.copy()\n",
        "result[\"cluster\"] = np.array(cluster_num)\n",
        "result.head()"
      ]
    },
    {
      "cell_type": "markdown",
      "metadata": {
        "id": "mRVwHyxPkEi0"
      },
      "source": [
        "이를 시각화 했을 경우, 두 가지 경우가 발생   \n",
        "1. Centroid가 잘 적용되어 클러스터가 잘 된 경우\n",
        "2. Centroid가 제대로 적용되지 않아 클러스터가 잘못된 경우\n",
        "\n",
        ">__2번의 경우 최초 데이터에서 샘플링 하여 임의의 Centroid를 설정하는 부분부터 다시 실행__"
      ]
    },
    {
      "cell_type": "code",
      "execution_count": null,
      "metadata": {
        "colab": {
          "base_uri": "https://localhost:8080/",
          "height": 279
        },
        "id": "0wkwnlGygy2Y",
        "outputId": "6a93a258-fd7e-4184-d701-243c6111635f"
      },
      "outputs": [
        {
          "data": {
            "image/png": "[encoded data removed]",
            "text/plain": [
              "<Figure size 432x288 with 1 Axes>"
            ]
          },
          "metadata": {
            "needs_background": "light"
          },
          "output_type": "display_data"
        }
      ],
      "source": [
        "sns.scatterplot(x=\"x\", y=\"y\", hue=\"cluster\", data=result, palette=\"Set1\");"
      ]
    },
    {
      "cell_type": "markdown",
      "metadata": {
        "id": "-h_t4WAPkeXQ"
      },
      "source": [
        "### __최적 Centroid가 적용된 클러스터를 위한 반복 작업__"
      ]
    },
    {
      "cell_type": "code",
      "execution_count": null,
      "metadata": {
        "colab": {
          "base_uri": "https://localhost:8080/",
          "height": 279
        },
        "id": "kHKEpC7tg5Vc",
        "outputId": "9e8824c1-2e70-439e-838c-517788748f76"
      },
      "outputs": [
        {
          "data": {
            "image/png": "[encoded data removed]",
            "text/plain": [
              "<Figure size 432x288 with 1 Axes>"
            ]
          },
          "metadata": {
            "needs_background": "light"
          },
          "output_type": "display_data"
        }
      ],
      "source": [
        "centroids = points.sample(4)\n",
        "\n",
        "distance = sp.spatial.distance.cdist(points, centroids, \"euclidean\")\n",
        "cluster_num = np.argmin(distance, axis=1)\n",
        "\n",
        "result = points.copy()\n",
        "result[\"cluster\"] = np.array(cluster_num)\n",
        "\n",
        "centroids_2 = result.groupby(\"cluster\").mean()\n",
        "\n",
        "distance = sp.spatial.distance.cdist(points, centroids_2, \"euclidean\")\n",
        "cluster_num = np.argmin(distance, axis=1)\n",
        "\n",
        "result = points.copy()\n",
        "result[\"cluster\"] = np.array(cluster_num)\n",
        "\n",
        "sns.scatterplot(x=\"x\", y=\"y\", hue=\"cluster\", data=result, palette=\"Set1\");"
      ]
    },
    {
      "cell_type": "markdown",
      "metadata": {
        "id": "JhDuP6D4nqSG"
      },
      "source": [
        "<br /><br /><br />\n",
        "## __2. Scikit-Learn을 통한 K-means clustering 진행하기__\n",
        "---"
      ]
    },
    {
      "cell_type": "markdown",
      "metadata": {
        "id": "T4VZkakLoHl5"
      },
      "source": [
        "### __Module import__"
      ]
    },
    {
      "cell_type": "code",
      "execution_count": null,
      "metadata": {
        "id": "0zUqWxIvhdMX"
      },
      "outputs": [],
      "source": [
        "from sklearn.cluster import KMeans \n",
        "from sklearn.datasets import make_blobs\n",
        "import pandas as pd\n",
        "import numpy as np\n",
        "import seaborn as sns\n",
        "import matplotlib.pyplot as plt"
      ]
    },
    {
      "cell_type": "markdown",
      "metadata": {
        "id": "wKUkZl82oLoC"
      },
      "source": [
        "### __데이터 준비__"
      ]
    },
    {
      "cell_type": "code",
      "execution_count": null,
      "metadata": {
        "colab": {
          "base_uri": "https://localhost:8080/",
          "height": 206
        },
        "id": "cPDG5nRNoKs5",
        "outputId": "3a41b908-9562-4d30-fc9c-bc3d05e764b8"
      },
      "outputs": [
        {
          "data": {
            "text/html": [
              "<div>\n",
              "<style scoped>\n",
              "    .dataframe tbody tr th:only-of-type {\n",
              "        vertical-align: middle;\n",
              "    }\n",
              "\n",
              "    .dataframe tbody tr th {\n",
              "        vertical-align: top;\n",
              "    }\n",
              "\n",
              "    .dataframe thead th {\n",
              "        text-align: right;\n",
              "    }\n",
              "</style>\n",
              "<table border=\"1\" class=\"dataframe\">\n",
              "  <thead>\n",
              "    <tr style=\"text-align: right;\">\n",
              "      <th></th>\n",
              "      <th>x</th>\n",
              "      <th>y</th>\n",
              "    </tr>\n",
              "  </thead>\n",
              "  <tbody>\n",
              "    <tr>\n",
              "      <th>0</th>\n",
              "      <td>0.276181</td>\n",
              "      <td>-2.217047</td>\n",
              "    </tr>\n",
              "    <tr>\n",
              "      <th>1</th>\n",
              "      <td>7.927368</td>\n",
              "      <td>-9.761527</td>\n",
              "    </tr>\n",
              "    <tr>\n",
              "      <th>2</th>\n",
              "      <td>8.491428</td>\n",
              "      <td>-2.549749</td>\n",
              "    </tr>\n",
              "    <tr>\n",
              "      <th>3</th>\n",
              "      <td>-11.537102</td>\n",
              "      <td>2.434883</td>\n",
              "    </tr>\n",
              "    <tr>\n",
              "      <th>4</th>\n",
              "      <td>4.292259</td>\n",
              "      <td>-8.992204</td>\n",
              "    </tr>\n",
              "  </tbody>\n",
              "</table>\n",
              "</div>"
            ],
            "text/plain": [
              "           x         y\n",
              "0   0.276181 -2.217047\n",
              "1   7.927368 -9.761527\n",
              "2   8.491428 -2.549749\n",
              "3 -11.537102  2.434883\n",
              "4   4.292259 -8.992204"
            ]
          },
          "execution_count": 20,
          "metadata": {},
          "output_type": "execute_result"
        }
      ],
      "source": [
        "x, y = make_blobs(n_samples=100, centers=4, n_features=2, random_state=6)\n",
        "points = pd.DataFrame(x, y).reset_index(drop=True)\n",
        "points.columns = [\"x\", \"y\"]\n",
        "points.head()"
      ]
    },
    {
      "cell_type": "markdown",
      "metadata": {
        "id": "CQ_pHLFloeCQ"
      },
      "source": [
        "### __Scikit-Learn KMeans()__"
      ]
    },
    {
      "cell_type": "code",
      "execution_count": null,
      "metadata": {
        "colab": {
          "base_uri": "https://localhost:8080/"
        },
        "id": "KLWEZSXKoc4y",
        "outputId": "e6037fdc-d0f3-4e90-b619-1f5da9dc3401"
      },
      "outputs": [
        {
          "data": {
            "text/plain": [
              "KMeans(n_clusters=4, random_state=0)"
            ]
          },
          "execution_count": 21,
          "metadata": {},
          "output_type": "execute_result"
        }
      ],
      "source": [
        "model = KMeans(n_clusters = 4, random_state = 0)\n",
        "model.fit(points)"
      ]
    },
    {
      "cell_type": "code",
      "execution_count": null,
      "metadata": {
        "colab": {
          "base_uri": "https://localhost:8080/",
          "height": 206
        },
        "id": "01_norIPoyQL",
        "outputId": "dae7019d-9923-416d-fc38-86001115c0a1"
      },
      "outputs": [
        {
          "data": {
            "text/html": [
              "<div>\n",
              "<style scoped>\n",
              "    .dataframe tbody tr th:only-of-type {\n",
              "        vertical-align: middle;\n",
              "    }\n",
              "\n",
              "    .dataframe tbody tr th {\n",
              "        vertical-align: top;\n",
              "    }\n",
              "\n",
              "    .dataframe thead th {\n",
              "        text-align: right;\n",
              "    }\n",
              "</style>\n",
              "<table border=\"1\" class=\"dataframe\">\n",
              "  <thead>\n",
              "    <tr style=\"text-align: right;\">\n",
              "      <th></th>\n",
              "      <th>x</th>\n",
              "      <th>y</th>\n",
              "      <th>cluster</th>\n",
              "    </tr>\n",
              "  </thead>\n",
              "  <tbody>\n",
              "    <tr>\n",
              "      <th>0</th>\n",
              "      <td>0.276181</td>\n",
              "      <td>-2.217047</td>\n",
              "      <td>2</td>\n",
              "    </tr>\n",
              "    <tr>\n",
              "      <th>1</th>\n",
              "      <td>7.927368</td>\n",
              "      <td>-9.761527</td>\n",
              "      <td>1</td>\n",
              "    </tr>\n",
              "    <tr>\n",
              "      <th>2</th>\n",
              "      <td>8.491428</td>\n",
              "      <td>-2.549749</td>\n",
              "      <td>3</td>\n",
              "    </tr>\n",
              "    <tr>\n",
              "      <th>3</th>\n",
              "      <td>-11.537102</td>\n",
              "      <td>2.434883</td>\n",
              "      <td>0</td>\n",
              "    </tr>\n",
              "    <tr>\n",
              "      <th>4</th>\n",
              "      <td>4.292259</td>\n",
              "      <td>-8.992204</td>\n",
              "      <td>1</td>\n",
              "    </tr>\n",
              "  </tbody>\n",
              "</table>\n",
              "</div>"
            ],
            "text/plain": [
              "           x         y  cluster\n",
              "0   0.276181 -2.217047        2\n",
              "1   7.927368 -9.761527        1\n",
              "2   8.491428 -2.549749        3\n",
              "3 -11.537102  2.434883        0\n",
              "4   4.292259 -8.992204        1"
            ]
          },
          "execution_count": 22,
          "metadata": {},
          "output_type": "execute_result"
        }
      ],
      "source": [
        "result_by_sklearn = points.copy()\n",
        "result_by_sklearn[\"cluster\"] = model.labels_\n",
        "result_by_sklearn.head()"
      ]
    },
    {
      "cell_type": "markdown",
      "metadata": {
        "id": "3YvBwiJqo3ch"
      },
      "source": [
        "### __데이터 시각화__"
      ]
    },
    {
      "cell_type": "code",
      "execution_count": null,
      "metadata": {
        "colab": {
          "base_uri": "https://localhost:8080/",
          "height": 279
        },
        "id": "8A1qjfMlo0HO",
        "outputId": "cc441a09-378c-4e16-aa4c-dc29a3b8e742"
      },
      "outputs": [
        {
          "data": {
            "image/png": "[encoded data removed]",
            "text/plain": [
              "<Figure size 432x288 with 1 Axes>"
            ]
          },
          "metadata": {
            "needs_background": "light"
          },
          "output_type": "display_data"
        }
      ],
      "source": [
        "sns.scatterplot(x=\"x\", y=\"y\", hue=\"cluster\", data=result_by_sklearn, palette=\"Set2\");"
      ]
    },
    {
      "cell_type": "markdown",
      "metadata": {
        "id": "8E4GoSlAr_4C"
      },
      "source": [
        "### __최적의 클러스터 개수 찾기(Elbow)__"
      ]
    },
    {
      "cell_type": "code",
      "execution_count": null,
      "metadata": {
        "colab": {
          "base_uri": "https://localhost:8080/",
          "height": 279
        },
        "id": "hXhHYnnVo5CI",
        "outputId": "3448673e-d943-45cd-a40b-7a57feddde14"
      },
      "outputs": [
        {
          "name": "stderr",
          "output_type": "stream",
          "text": [
            "C:\\Users\\fatal\\anaconda3\\envs\\ailab\\lib\\site-packages\\sklearn\\cluster\\_kmeans.py:1037: UserWarning: KMeans is known to have a memory leak on Windows with MKL, when there are less chunks than available threads. You can avoid it by setting the environment variable OMP_NUM_THREADS=1.\n",
            "  \"KMeans is known to have a memory leak on Windows \"\n"
          ]
        },
        {
          "data": {
            "image/png": "[encoded data removed]",
            "text/plain": [
              "<Figure size 432x288 with 1 Axes>"
            ]
          },
          "metadata": {
            "needs_background": "light"
          },
          "output_type": "display_data"
        }
      ],
      "source": [
        "def elbow(data, max_cluster):\n",
        "    sse = []\n",
        "    for i in range(1, max_cluster):\n",
        "        km = KMeans(n_clusters=i, init='k-means++', random_state = 0)\n",
        "        km.fit(data)\n",
        "        sse.append(km.inertia_)\n",
        "        pass\n",
        "    plt.plot(range(1, max_cluster), sse, marker='o')\n",
        "    plt.xlabel('Count of Cluster')\n",
        "    plt.ylabel('SSE')\n",
        "    plt.show()\n",
        "    pass\n",
        "elbow(points, 50)"
      ]
    },
    {
      "cell_type": "markdown",
      "metadata": {
        "id": "-oYMMZ1Csnlc"
      },
      "source": [
        "### __Moons 데이터 K-Means Clustering__"
      ]
    },
    {
      "cell_type": "code",
      "execution_count": null,
      "metadata": {
        "id": "nb2iF-f0s8DC"
      },
      "outputs": [],
      "source": [
        "from sklearn.datasets import make_moons"
      ]
    },
    {
      "cell_type": "code",
      "execution_count": null,
      "metadata": {
        "colab": {
          "base_uri": "https://localhost:8080/",
          "height": 206
        },
        "id": "webHEWbftHAB",
        "outputId": "f3731ec8-f345-42e0-85bc-1a0010c88e21"
      },
      "outputs": [
        {
          "data": {
            "text/html": [
              "<div>\n",
              "<style scoped>\n",
              "    .dataframe tbody tr th:only-of-type {\n",
              "        vertical-align: middle;\n",
              "    }\n",
              "\n",
              "    .dataframe tbody tr th {\n",
              "        vertical-align: top;\n",
              "    }\n",
              "\n",
              "    .dataframe thead th {\n",
              "        text-align: right;\n",
              "    }\n",
              "</style>\n",
              "<table border=\"1\" class=\"dataframe\">\n",
              "  <thead>\n",
              "    <tr style=\"text-align: right;\">\n",
              "      <th></th>\n",
              "      <th>x</th>\n",
              "      <th>y</th>\n",
              "    </tr>\n",
              "  </thead>\n",
              "  <tbody>\n",
              "    <tr>\n",
              "      <th>0</th>\n",
              "      <td>-0.096023</td>\n",
              "      <td>0.995379</td>\n",
              "    </tr>\n",
              "    <tr>\n",
              "      <th>1</th>\n",
              "      <td>1.672301</td>\n",
              "      <td>-0.240278</td>\n",
              "    </tr>\n",
              "    <tr>\n",
              "      <th>2</th>\n",
              "      <td>0.991790</td>\n",
              "      <td>0.127877</td>\n",
              "    </tr>\n",
              "    <tr>\n",
              "      <th>3</th>\n",
              "      <td>0.050944</td>\n",
              "      <td>0.184892</td>\n",
              "    </tr>\n",
              "    <tr>\n",
              "      <th>4</th>\n",
              "      <td>1.032052</td>\n",
              "      <td>-0.499486</td>\n",
              "    </tr>\n",
              "  </tbody>\n",
              "</table>\n",
              "</div>"
            ],
            "text/plain": [
              "          x         y\n",
              "0 -0.096023  0.995379\n",
              "1  1.672301 -0.240278\n",
              "2  0.991790  0.127877\n",
              "3  0.050944  0.184892\n",
              "4  1.032052 -0.499486"
            ]
          },
          "execution_count": 27,
          "metadata": {},
          "output_type": "execute_result"
        }
      ],
      "source": [
        "x, y = make_moons(n_samples=100, random_state=0)\n",
        "points = pd.DataFrame(x, y).reset_index(drop=True)\n",
        "points.columns = [\"x\", \"y\"]\n",
        "points.head()"
      ]
    },
    {
      "cell_type": "code",
      "execution_count": null,
      "metadata": {
        "colab": {
          "base_uri": "https://localhost:8080/"
        },
        "id": "G96Bz6yHsQRV",
        "outputId": "e9de51ee-a04f-4f4d-fb7e-39c0126fdd33"
      },
      "outputs": [
        {
          "data": {
            "text/plain": [
              "KMeans(n_clusters=2)"
            ]
          },
          "execution_count": 28,
          "metadata": {},
          "output_type": "execute_result"
        }
      ],
      "source": [
        "model = KMeans(n_clusters = 2, init='k-means++')\n",
        "model.fit(points)"
      ]
    },
    {
      "cell_type": "code",
      "execution_count": null,
      "metadata": {
        "colab": {
          "base_uri": "https://localhost:8080/",
          "height": 279
        },
        "id": "LJzd4HbcthDS",
        "outputId": "2f564252-771e-47f9-9a62-f04f5b229e07"
      },
      "outputs": [
        {
          "name": "stderr",
          "output_type": "stream",
          "text": [
            "C:\\Users\\fatal\\anaconda3\\envs\\ailab\\lib\\site-packages\\sklearn\\cluster\\_kmeans.py:1037: UserWarning: KMeans is known to have a memory leak on Windows with MKL, when there are less chunks than available threads. You can avoid it by setting the environment variable OMP_NUM_THREADS=1.\n",
            "  \"KMeans is known to have a memory leak on Windows \"\n"
          ]
        },
        {
          "data": {
            "image/png": "[encoded data removed]",
            "text/plain": [
              "<Figure size 432x288 with 1 Axes>"
            ]
          },
          "metadata": {
            "needs_background": "light"
          },
          "output_type": "display_data"
        }
      ],
      "source": [
        "elbow(points, 10)"
      ]
    },
    {
      "cell_type": "code",
      "execution_count": null,
      "metadata": {
        "colab": {
          "base_uri": "https://localhost:8080/",
          "height": 206
        },
        "id": "LIe9nMwCsrqP",
        "outputId": "fb33afed-6b59-44a2-83a4-10da0666fa57"
      },
      "outputs": [
        {
          "data": {
            "text/html": [
              "<div>\n",
              "<style scoped>\n",
              "    .dataframe tbody tr th:only-of-type {\n",
              "        vertical-align: middle;\n",
              "    }\n",
              "\n",
              "    .dataframe tbody tr th {\n",
              "        vertical-align: top;\n",
              "    }\n",
              "\n",
              "    .dataframe thead th {\n",
              "        text-align: right;\n",
              "    }\n",
              "</style>\n",
              "<table border=\"1\" class=\"dataframe\">\n",
              "  <thead>\n",
              "    <tr style=\"text-align: right;\">\n",
              "      <th></th>\n",
              "      <th>x</th>\n",
              "      <th>y</th>\n",
              "      <th>cluster</th>\n",
              "    </tr>\n",
              "  </thead>\n",
              "  <tbody>\n",
              "    <tr>\n",
              "      <th>0</th>\n",
              "      <td>-0.096023</td>\n",
              "      <td>0.995379</td>\n",
              "      <td>1</td>\n",
              "    </tr>\n",
              "    <tr>\n",
              "      <th>1</th>\n",
              "      <td>1.672301</td>\n",
              "      <td>-0.240278</td>\n",
              "      <td>0</td>\n",
              "    </tr>\n",
              "    <tr>\n",
              "      <th>2</th>\n",
              "      <td>0.991790</td>\n",
              "      <td>0.127877</td>\n",
              "      <td>0</td>\n",
              "    </tr>\n",
              "    <tr>\n",
              "      <th>3</th>\n",
              "      <td>0.050944</td>\n",
              "      <td>0.184892</td>\n",
              "      <td>1</td>\n",
              "    </tr>\n",
              "    <tr>\n",
              "      <th>4</th>\n",
              "      <td>1.032052</td>\n",
              "      <td>-0.499486</td>\n",
              "      <td>0</td>\n",
              "    </tr>\n",
              "  </tbody>\n",
              "</table>\n",
              "</div>"
            ],
            "text/plain": [
              "          x         y  cluster\n",
              "0 -0.096023  0.995379        1\n",
              "1  1.672301 -0.240278        0\n",
              "2  0.991790  0.127877        0\n",
              "3  0.050944  0.184892        1\n",
              "4  1.032052 -0.499486        0"
            ]
          },
          "execution_count": 30,
          "metadata": {},
          "output_type": "execute_result"
        }
      ],
      "source": [
        "result_by_sklearn = points.copy()\n",
        "result_by_sklearn[\"cluster\"] = model.labels_\n",
        "result_by_sklearn.head()"
      ]
    },
    {
      "cell_type": "code",
      "execution_count": null,
      "metadata": {
        "colab": {
          "base_uri": "https://localhost:8080/",
          "height": 279
        },
        "id": "sZrYYOmbstsn",
        "outputId": "497f46fb-18ea-430c-d493-c516a2750f57"
      },
      "outputs": [
        {
          "data": {
            "image/png": "[encoded data removed]",
            "text/plain": [
              "<Figure size 432x288 with 1 Axes>"
            ]
          },
          "metadata": {
            "needs_background": "light"
          },
          "output_type": "display_data"
        }
      ],
      "source": [
        "sns.scatterplot(x=\"x\", y=\"y\", hue=\"cluster\", data=result_by_sklearn, palette=\"Set2\");"
      ]
    },
    {
      "cell_type": "code",
      "execution_count": null,
      "metadata": {
        "id": "8QHNoj5vsvMX"
      },
      "outputs": [],
      "source": []
    }
  ],
  "metadata": {
    "colab": {
      "provenance": [],
      "toc_visible": true
    },
    "kernelspec": {
      "display_name": "Python 3 (ipykernel)",
      "language": "python",
      "name": "python3"
    },
    "language_info": {
      "codemirror_mode": {
        "name": "ipython",
        "version": 3
      },
      "file_extension": ".py",
      "mimetype": "text/x-python",
      "name": "python",
      "nbconvert_exporter": "python",
      "pygments_lexer": "ipython3",
      "version": "3.7.11"
    }
  },
  "nbformat": 4,
  "nbformat_minor": 0
}